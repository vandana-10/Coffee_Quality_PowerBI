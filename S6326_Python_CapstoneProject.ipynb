{
  "nbformat": 4,
  "nbformat_minor": 0,
  "metadata": {
    "colab": {
      "provenance": [],
      "authorship_tag": "ABX9TyM0dSh0NT9PvpRj3yMF25G9",
      "include_colab_link": true
    },
    "kernelspec": {
      "name": "python3",
      "display_name": "Python 3"
    },
    "language_info": {
      "name": "python"
    }
  },
  "cells": [
    {
      "cell_type": "markdown",
      "metadata": {
        "id": "view-in-github",
        "colab_type": "text"
      },
      "source": [
        "<a href=\"https://colab.research.google.com/github/vandana-10/Coffee_Quality_PowerBI/blob/main/S6326_Python_CapstoneProject.ipynb\" target=\"_parent\"><img src=\"https://colab.research.google.com/assets/colab-badge.svg\" alt=\"Open In Colab\"/></a>"
      ]
    },
    {
      "cell_type": "markdown",
      "source": [
        "# OTP-Verification System"
      ],
      "metadata": {
        "id": "3n_o2BFqTF7L"
      }
    },
    {
      "cell_type": "code",
      "source": [
        "import random\n",
        "\n",
        "otp = random.randint(000000,99999)\n",
        "\n",
        "# Generate a 6-digit OTP\n",
        "print(\"OTP of length 6:\", otp)"
      ],
      "metadata": {
        "colab": {
          "base_uri": "https://localhost:8080/"
        },
        "id": "e5adzFw3U7yW",
        "outputId": "1493e308-069a-4618-8f8c-346a54f25cea"
      },
      "execution_count": null,
      "outputs": [
        {
          "output_type": "stream",
          "name": "stdout",
          "text": [
            "OTP of length 6: 76485\n"
          ]
        }
      ]
    },
    {
      "cell_type": "markdown",
      "source": [
        "**I Developed an OTP (One-Time Password) verification system in Python.\n",
        "by using Random , SMTP and EmailMessage libraries . The Random Library helps to generate a 6-digit OTP by using Randint Function and send it to the user's email address for verification. For using Mail We have a SMTP server with port 587 helps to send mail to user.And Emailmessage helps to know  the information like To,From,and the msg with generated OTP to the user . After receiving the OTP, the user should enter it into the system for validation. If the entered OTP matches the generated OTP, access should be granted; otherwise, access should be denied.**"
      ],
      "metadata": {
        "id": "ojxRIPT4R0b_"
      }
    },
    {
      "cell_type": "code",
      "source": [
        "#importing the necessary libraries fot otp verification\n",
        "\n",
        "import random\n",
        "import smtplib\n",
        "from email.message import EmailMessage\n",
        "\n",
        "# to generate  a Random OTP by using random.randint function\n",
        "\n",
        "for i in range(6):                             # Giving a Range for OTP\n",
        " otp = random.randint(000000,99999)           # Generated a 6-digit OTP\n",
        "print(\"OTP of length is 6:\", otp)\n",
        "\n",
        "# Created a Server called SMTP  for Gmail's\n",
        "server = smtplib.SMTP('smtp.gmail.com',587)\n",
        "\n",
        "# enabling TLS (transport layered Security ) to start the Server\n",
        "server.starttls()\n",
        "\n",
        "# adding password for Gmail authentication\n",
        "from_mail='vandanameesala2002@gmail.com'\n",
        "password = 'zgqb xqvj ttbf qvkt'\n",
        "\n",
        "# logging to your account by server(Sender's Mail account)\n",
        "server.login(from_mail,password)\n",
        "\n",
        "# user input to  enter a mail to sent OTP(Receiver's Mail account)\n",
        "to_mail = input('Enter your Email : ')\n",
        "\n",
        "# created a email message object to know the basic details like Sub , To , From to the Receiver\n",
        "msg = EmailMessage()\n",
        "msg['Subject'] = 'OTP verification'\n",
        "msg['From'] = 'vandanameesala2002@gmail.com'\n",
        "msg['To'] = to_mail\n",
        "msg.set_content('Hello, your otp is : '  + str(otp))\n",
        "\n",
        "\n",
        "# Sending a Message to Receiver  from Server\n",
        "server.send_message(msg)\n",
        "\n",
        "# After sending a Mail, the Server print statement helps to tell Email is sent\n",
        "print('Email Sent')\n",
        "\n",
        "# After successful sending a Message To Mail , Quit the server\n",
        "server.quit()\n",
        "\n",
        "# Enable user to enter OTP which is Received from Gmail\n",
        "user = int(input('Enter otp : '))\n",
        "\n",
        "# Checking/Verifying  the OTP entered by user\n",
        "if user == otp:\n",
        "    print(' Your OTP is Correct , Access Granted')\n",
        "else:\n",
        "    print('You Entered Incorrect OTP , Access Denied !!')\n",
        "    print('You Have one Last Chance to Enter OTP')\n",
        "    b = int(input('Re-Enter OTP : '))\n",
        "    if b == otp:\n",
        "      print('Your OTP is Correct , Access Granted')\n",
        "    else:\n",
        "      print('Access Denied!!')\n",
        "\n",
        "\n"
      ],
      "metadata": {
        "id": "141FR2ZERRSb",
        "colab": {
          "base_uri": "https://localhost:8080/"
        },
        "outputId": "05c731c8-cb2f-4893-eb02-926388d84c58"
      },
      "execution_count": null,
      "outputs": [
        {
          "output_type": "stream",
          "name": "stdout",
          "text": [
            "OTP of length is 6: 52791\n",
            "Enter your Email : allinonetrending25@gmail.com\n",
            "Email Sent\n",
            "Enter otp : 52792\n",
            "You Entered Incorrect OTP , Access Denied !!\n",
            "You Have one Last Chance to Enter OTP\n",
            "Re-Enter OTP : 52791\n",
            "Your OTP is Correct , Access Granted\n"
          ]
        }
      ]
    },
    {
      "cell_type": "code",
      "source": [
        "import random\n",
        "\n",
        "def generate_otp(number_of_digits):\n",
        "    otp = ''.join(str(random.randint(0, 9)) for _ in range(number_of_digits))\n",
        "    return otp\n",
        "\n",
        "# Generate a 6-digit OTP\n",
        "print(\"OTP of length 6:\", generate_otp(6))"
      ],
      "metadata": {
        "id": "1d05ZNcwUPuu"
      },
      "execution_count": null,
      "outputs": []
    }
  ]
}